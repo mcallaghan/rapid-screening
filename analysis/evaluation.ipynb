{
 "cells": [
  {
   "cell_type": "code",
   "execution_count": 1,
   "metadata": {},
   "outputs": [],
   "source": [
    "import xml.etree.ElementTree as ET\n",
    "import pandas as pd\n",
    "import rapid_review as rr\n",
    "\n"
   ]
  },
  {
   "cell_type": "code",
   "execution_count": 5,
   "metadata": {},
   "outputs": [
    {
     "name": "stdout",
     "output_type": "stream",
     "text": [
      "(486, 4)\n"
     ]
    },
    {
     "data": {
      "text/html": [
       "<div>\n",
       "<style scoped>\n",
       "    .dataframe tbody tr th:only-of-type {\n",
       "        vertical-align: middle;\n",
       "    }\n",
       "\n",
       "    .dataframe tbody tr th {\n",
       "        vertical-align: top;\n",
       "    }\n",
       "\n",
       "    .dataframe thead th {\n",
       "        text-align: right;\n",
       "    }\n",
       "</style>\n",
       "<table border=\"1\" class=\"dataframe\">\n",
       "  <thead>\n",
       "    <tr style=\"text-align: right;\">\n",
       "      <th></th>\n",
       "      <th>ab</th>\n",
       "      <th>pmid</th>\n",
       "      <th>ti</th>\n",
       "      <th>relevant</th>\n",
       "    </tr>\n",
       "  </thead>\n",
       "  <tbody>\n",
       "    <tr>\n",
       "      <th>0</th>\n",
       "      <td>Therapy with proton beam is superior to that w...</td>\n",
       "      <td>2157915</td>\n",
       "      <td>[Clinical study of proton radiotherapy in urol...</td>\n",
       "      <td>1</td>\n",
       "    </tr>\n",
       "    <tr>\n",
       "      <th>1</th>\n",
       "      <td>To present outcomes of bladder-preserving ther...</td>\n",
       "      <td>16580495</td>\n",
       "      <td>Proton beam therapy for invasive bladder cance...</td>\n",
       "      <td>1</td>\n",
       "    </tr>\n",
       "    <tr>\n",
       "      <th>2</th>\n",
       "      <td>For management of muscle-invading bladder canc...</td>\n",
       "      <td>7940124</td>\n",
       "      <td>Preliminary results of bladder-preserving ther...</td>\n",
       "      <td>1</td>\n",
       "    </tr>\n",
       "    <tr>\n",
       "      <th>3</th>\n",
       "      <td>Local control of osteosarcoma in patients for ...</td>\n",
       "      <td>15667972</td>\n",
       "      <td>Radiotherapy for local control of osteosarcoma.</td>\n",
       "      <td>1</td>\n",
       "    </tr>\n",
       "    <tr>\n",
       "      <th>4</th>\n",
       "      <td>To evaluate the tolerance for and effectivenes...</td>\n",
       "      <td>12431970</td>\n",
       "      <td>Efficacy and safety of carbon ion radiotherapy...</td>\n",
       "      <td>1</td>\n",
       "    </tr>\n",
       "  </tbody>\n",
       "</table>\n",
       "</div>"
      ],
      "text/plain": [
       "                                                  ab      pmid  \\\n",
       "0  Therapy with proton beam is superior to that w...   2157915   \n",
       "1  To present outcomes of bladder-preserving ther...  16580495   \n",
       "2  For management of muscle-invading bladder canc...   7940124   \n",
       "3  Local control of osteosarcoma in patients for ...  15667972   \n",
       "4  To evaluate the tolerance for and effectivenes...  12431970   \n",
       "\n",
       "                                                  ti  relevant  \n",
       "0  [Clinical study of proton radiotherapy in urol...         1  \n",
       "1  Proton beam therapy for invasive bladder cance...         1  \n",
       "2  Preliminary results of bladder-preserving ther...         1  \n",
       "3    Radiotherapy for local control of osteosarcoma.         1  \n",
       "4  Efficacy and safety of carbon ion radiotherapy...         1  "
      ]
     },
     "execution_count": 5,
     "metadata": {},
     "output_type": "execute_result"
    }
   ],
   "source": [
    "df_included = rr.parse_pmxml('../data/pbr_included.xml')\n",
    "df_included['relevant'] = 1\n",
    "\n",
    "df_excluded = rr.parse_pmxml('../data/pbr_excluded.xml')\n",
    "df_excluded['relevant'] = 0\n",
    "\n",
    "df = pd.concat([df_included,df_excluded])\n",
    "print(df.shape)\n",
    "df.head()\n"
   ]
  },
  {
   "cell_type": "code",
   "execution_count": null,
   "metadata": {},
   "outputs": [],
   "source": []
  },
  {
   "cell_type": "code",
   "execution_count": null,
   "metadata": {},
   "outputs": [],
   "source": []
  }
 ],
 "metadata": {
  "kernelspec": {
   "display_name": "Python 3",
   "language": "python",
   "name": "python3"
  },
  "language_info": {
   "codemirror_mode": {
    "name": "ipython",
    "version": 3
   },
   "file_extension": ".py",
   "mimetype": "text/x-python",
   "name": "python",
   "nbconvert_exporter": "python",
   "pygments_lexer": "ipython3",
   "version": "3.6.7"
  }
 },
 "nbformat": 4,
 "nbformat_minor": 2
}
