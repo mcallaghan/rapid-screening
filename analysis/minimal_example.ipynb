{
 "cells": [
  {
   "cell_type": "markdown",
   "id": "581e8fb8-80dd-49a0-9cc2-f8691d914384",
   "metadata": {},
   "source": [
    "## Generate data\n",
    "\n",
    "First we will generate a toy dataset that will mimic a set of documents in a systematic review that have been screened using ML prioritisation"
   ]
  },
  {
   "cell_type": "code",
   "execution_count": 1,
   "id": "57777e05-1ce4-4bf4-8b46-5b7a499f3826",
   "metadata": {},
   "outputs": [
    {
     "data": {
      "text/html": [
       "<div>\n",
       "<style scoped>\n",
       "    .dataframe tbody tr th:only-of-type {\n",
       "        vertical-align: middle;\n",
       "    }\n",
       "\n",
       "    .dataframe tbody tr th {\n",
       "        vertical-align: top;\n",
       "    }\n",
       "\n",
       "    .dataframe thead th {\n",
       "        text-align: right;\n",
       "    }\n",
       "</style>\n",
       "<table border=\"1\" class=\"dataframe\">\n",
       "  <thead>\n",
       "    <tr style=\"text-align: right;\">\n",
       "      <th></th>\n",
       "      <th>relevance</th>\n",
       "      <th>id</th>\n",
       "    </tr>\n",
       "  </thead>\n",
       "  <tbody>\n",
       "    <tr>\n",
       "      <th>0</th>\n",
       "      <td>1.0</td>\n",
       "      <td>0</td>\n",
       "    </tr>\n",
       "    <tr>\n",
       "      <th>1</th>\n",
       "      <td>1.0</td>\n",
       "      <td>1</td>\n",
       "    </tr>\n",
       "    <tr>\n",
       "      <th>2</th>\n",
       "      <td>1.0</td>\n",
       "      <td>2</td>\n",
       "    </tr>\n",
       "    <tr>\n",
       "      <th>3</th>\n",
       "      <td>1.0</td>\n",
       "      <td>3</td>\n",
       "    </tr>\n",
       "    <tr>\n",
       "      <th>4</th>\n",
       "      <td>1.0</td>\n",
       "      <td>4</td>\n",
       "    </tr>\n",
       "  </tbody>\n",
       "</table>\n",
       "</div>"
      ],
      "text/plain": [
       "   relevance  id\n",
       "0        1.0   0\n",
       "1        1.0   1\n",
       "2        1.0   2\n",
       "3        1.0   3\n",
       "4        1.0   4"
      ]
     },
     "execution_count": 1,
     "metadata": {},
     "output_type": "execute_result"
    },
    {
     "data": {
      "image/png": "[encoded data removed]",
      "text/plain": [
       "<Figure size 432x288 with 1 Axes>"
      ]
     },
     "metadata": {
      "needs_background": "light"
     },
     "output_type": "display_data"
    }
   ],
   "source": [
    "import numpy as np \n",
    "import pandas as pd\n",
    "import matplotlib.pyplot as plt\n",
    "\n",
    "n_docs = 6000\n",
    "n_relevant_docs = 1000\n",
    "urn_bias = 20\n",
    "\n",
    "sample = np.zeros(n_docs)\n",
    "sample[:n_relevant_docs] = 1\n",
    "\n",
    "ps = np.ones(n_docs)\n",
    "ps[:n_relevant_docs] = urn_bias\n",
    "ps = ps/ps.sum()\n",
    "\n",
    "sample = np.random.choice(sample,sample.shape,replace=False, p=ps)\n",
    "df = pd.DataFrame({'relevance': sample})\n",
    "df['id'] = df.index\n",
    "df.relevance.cumsum().plot()\n",
    "df.head()\n"
   ]
  },
  {
   "cell_type": "markdown",
   "id": "3e2aa342-0461-42e9-92ed-66fe8c1fcfbb",
   "metadata": {},
   "source": [
    "`df` is simply a dataframe with an id variable, and a binary relevance variable. We will create a column `seen_relevance` which will mirror the value of relevance given a case where X documents have not yet been screened. We will set the last X values of seen_relevance to NA. This mirrors a real database where the value of seen_relevance is \n",
    "- 1, where a user marked it for inclusion, \n",
    "- 0, where a user marked it for exclusion, and \n",
    "- NA, where a user has not yet seen the document"
   ]
  },
  {
   "cell_type": "code",
   "execution_count": 2,
   "id": "0b0bb4eb-6d98-495f-9dda-1bd7f013e64d",
   "metadata": {},
   "outputs": [
    {
     "data": {
      "text/plain": [
       "<Axes: >"
      ]
     },
     "execution_count": 2,
     "metadata": {},
     "output_type": "execute_result"
    },
    {
     "data": {
      "image/png": "[encoded data removed]",
      "text/plain": [
       "<Figure size 432x288 with 1 Axes>"
      ]
     },
     "metadata": {
      "needs_background": "light"
     },
     "output_type": "display_data"
    }
   ],
   "source": [
    "documents_seen = 1500\n",
    "df['seen_relevance'] = np.NaN\n",
    "df.loc[:documents_seen,'seen_relevance'] = df.loc[:documents_seen,'relevance']\n",
    "df.relevance.cumsum().plot()\n",
    "df.seen_relevance.cumsum().plot()"
   ]
  },
  {
   "cell_type": "markdown",
   "id": "17f98103-5f44-495d-9e67-848f972a43f8",
   "metadata": {},
   "source": [
    "\n",
    "## Test null hypothesis\n",
    "\n",
    "Now we can apply a function that tests the null hypothesis that a given recall target has been missed and returns a p score. This is simply applied to a dataframe where the value of `seen_relevance` takes the possible values described above.\n",
    "\n",
    "We'll do a small \"simulation\", where we start with all rows of seen_relevance set to NA, then for batches of size `batch_size`, we \"reveal\" the values. We'll plt the p score after each batch"
   ]
  },
  {
   "cell_type": "code",
   "execution_count": 6,
   "id": "ae1a7f33-efc4-4215-8766-350966c212a9",
   "metadata": {},
   "outputs": [
    {
     "data": {
      "text/plain": [
       "<matplotlib.legend.Legend at 0x7fa5ac866ef0>"
      ]
     },
     "execution_count": 6,
     "metadata": {},
     "output_type": "execute_result"
    },
    {
     "data": {
      "image/png": "[encoded data removed]",
      "text/plain": [
       "<Figure size 432x288 with 1 Axes>"
      ]
     },
     "metadata": {
      "needs_background": "light"
     },
     "output_type": "display_data"
    }
   ],
   "source": [
    "from scipy.stats import hypergeom\n",
    "\n",
    "def calculate_h0(df, recall_target=.95):\n",
    "    r_seen = df.seen_relevance.sum() # how many relevant docs have been seen\n",
    "    urns = df[pd.notna(df.seen_relevance)].seen_relevance[::-1] # urns of previous 1,2,...,N documents\n",
    "    urn_sizes = np.arange(urns.shape[0])+1 # The sizes of these urns\n",
    "    # Now we calculate k_hat, which is the minimum number of documents there would have to be\n",
    "    # in each of our urns for the urn to be in keeping with our null hypothesis\n",
    "    # that we have missed our target\n",
    "    k_hat = np.floor(\n",
    "        r_seen/recall_target +1 - # We devide the number or relevant documents by our recall target and add 1\n",
    "        (\n",
    "            r_seen - # From this we subtract the total relevant documents seen\n",
    "            urns.cumsum() # before each urn \n",
    "        )\n",
    "    )\n",
    "    p = hypergeom.cdf( # the probability of observing\n",
    "        urns.cumsum(), # the number of relevant documents in the sample\n",
    "        df.shape[0] - (urns.shape[0] - urn_sizes), # In a population made up out of the urn and all remaining docs \n",
    "        k_hat, # Where K_hat docs in the population are actually relevant\n",
    "        urn_sizes # After observing this many documents\n",
    "    )\n",
    "    return min(p)\n",
    "\n",
    "\n",
    "df['seen_relevance'] = np.NaN\n",
    "\n",
    "fig, ax = plt.subplots()\n",
    "\n",
    "df['recall'] = df.relevance.cumsum() / df.relevance.sum()\n",
    "df.recall.plot(ax=ax, label='recall')\n",
    "\n",
    "batch_size = 100 # We'll calculate our p score for H0 after each batch\n",
    "for documents_seen in np.arange(df.shape[0])[batch_size::batch_size]:\n",
    "    df.loc[:documents_seen,'seen_relevance'] = df.loc[:documents_seen,'relevance']\n",
    "    p_h0 = calculate_h0(df)\n",
    "    ax.scatter(\n",
    "        documents_seen, p_h0, s=15,\n",
    "        color=\"C1\", label='p_H0' if documents_seen==batch_size else None\n",
    "    )\n",
    "    if p_h0 < 0.05:\n",
    "        break\n",
    "        \n",
    "ax.legend()"
   ]
  },
  {
   "cell_type": "code",
   "execution_count": null,
   "id": "e2df8a08-5a48-422c-b904-f983d3b4c23f",
   "metadata": {},
   "outputs": [],
   "source": []
  }
 ],
 "metadata": {
  "kernelspec": {
   "display_name": "Python 3 (ipykernel)",
   "language": "python",
   "name": "python3"
  },
  "language_info": {
   "codemirror_mode": {
    "name": "ipython",
    "version": 3
   },
   "file_extension": ".py",
   "mimetype": "text/x-python",
   "name": "python",
   "nbconvert_exporter": "python",
   "pygments_lexer": "ipython3",
   "version": "3.10.6"
  }
 },
 "nbformat": 4,
 "nbformat_minor": 5
}
