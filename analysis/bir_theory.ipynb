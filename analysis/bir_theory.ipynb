{
 "cells": [
  {
   "cell_type": "code",
   "execution_count": 16,
   "metadata": {},
   "outputs": [],
   "source": [
    "import numpy as np\n",
    "import pandas as pd\n",
    "from scipy.stats import hypergeom\n",
    "import matplotlib.pyplot as plt\n",
    "import math\n",
    "import random\n",
    "from matplotlib.ticker import MaxNLocator\n"
   ]
  },
  {
   "cell_type": "markdown",
   "metadata": {},
   "source": [
    "# Choosing n based on the margin of error\n",
    "\n",
    "Shemilt et al. (2014) calculate the appropriate sample size using this equation for calculating the margin of error\n",
    "\n",
    "$M\\!E = z \\sqrt{\\frac{pi(1-pi)}{n-1}}\\sqrt{1-n/1}$\n",
    "\n",
    "where \n",
    "- z is the critical value from the normal distribution, \n",
    "- pi is the sample proportion, \n",
    "- n is the sample size, \n",
    "- N is the population size, and \n",
    "- ME is the margin of error\n",
    "\n",
    "They use an online calculator to solve for n, but we can rearrange and implement in python\n",
    "\n",
    "$n = \\frac{N M\\!E^2 + z^2Npi(1-pi)}{NM\\!E^2 + pi (1-pi) z^2} $"
   ]
  },
  {
   "cell_type": "code",
   "execution_count": 2,
   "metadata": {},
   "outputs": [],
   "source": [
    "def sample_size(N, pi, z, ME):\n",
    "    return (N * ME**2 + z**2 * N * pi * (1-pi))/(N * ME**2 + pi * (1 -\n",
    "pi) * z**2)"
   ]
  },
  {
   "cell_type": "markdown",
   "metadata": {},
   "source": [
    "Given Shemilt et al.'s values for the CA review, we can recreate their sample size"
   ]
  },
  {
   "cell_type": "code",
   "execution_count": 3,
   "metadata": {},
   "outputs": [
    {
     "data": {
      "text/plain": [
       "6040.429453044694"
      ]
     },
     "execution_count": 3,
     "metadata": {},
     "output_type": "execute_result"
    }
   ],
   "source": [
    "z = 1.96\n",
    "pi = 0.01\n",
    "N = 804919\n",
    "ME = 0.0025\n",
    "\n",
    "n = sample_size(N, pi, z, ME)\n",
    "n"
   ]
  },
  {
   "cell_type": "markdown",
   "metadata": {},
   "source": [
    "Strictly speaking we should round *up* here, but this matches Shemilt et al's n=6,040.\n",
    "\n",
    "Their actual sample proportion though was 0.000498 (3 out of 6,040)\n",
    "\n",
    "This implies a different sample size required to get the same margin of error"
   ]
  },
  {
   "cell_type": "code",
   "execution_count": 4,
   "metadata": {},
   "outputs": [
    {
     "data": {
      "text/plain": [
       "306.8296262317726"
      ]
     },
     "execution_count": 4,
     "metadata": {},
     "output_type": "execute_result"
    }
   ],
   "source": [
    "bir = 0.000498\n",
    "sample_size(N, bir, z, ME)"
   ]
  },
  {
   "cell_type": "markdown",
   "metadata": {},
   "source": [
    "or, put another way, a different error margin, if we go back to the original equation and plug in the actual observed proportion"
   ]
  },
  {
   "cell_type": "code",
   "execution_count": 5,
   "metadata": {},
   "outputs": [
    {
     "data": {
      "text/plain": [
       "0.00056056879257779"
      ]
     },
     "execution_count": 5,
     "metadata": {},
     "output_type": "execute_result"
    }
   ],
   "source": [
    "def error_margin(z, pi, n, N):\n",
    "    return z*np.sqrt(pi*(1-pi)/(n-1))*np.sqrt(1 - n/N)\n",
    "\n",
    "ME_hat = error_margin(z, bir, n, N)\n",
    "ME_hat"
   ]
  },
  {
   "cell_type": "markdown",
   "metadata": {},
   "source": [
    "Their actual margin of error was lower than their target, but is still larger than their estimate (this means their margin of error includes 0 and a value more than twice as high as their estimate"
   ]
  },
  {
   "cell_type": "code",
   "execution_count": 26,
   "metadata": {},
   "outputs": [
    {
     "name": "stdout",
     "output_type": "stream",
     "text": [
      "estimate: 401\n",
      "margin of error: 451.2124719529221\n",
      "range: (0, 852.0621339529222)\n"
     ]
    }
   ],
   "source": [
    "estimate = round(bir*N)\n",
    "print(f\"estimate: {estimate}\")\n",
    "print(f\"margin of error: {ME_hat*N}\")\n",
    "est_range = max(0, (bir-ME_hat)*N),(bir+ME_hat)*N\n",
    "print(f\"range: {est_range}\")"
   ]
  },
  {
   "cell_type": "markdown",
   "metadata": {},
   "source": [
    "The reason this small seeming margin of error (0.0006) gives such a wide range of actual values is because the estimate is also small.\n",
    "\n",
    "A more sensible strategy might be to construct a margin of error bounded to within 5% of the estimated number of relevant results\n",
    "\n",
    "$ M\\!E = \\frac{0.05piN}{N} $"
   ]
  },
  {
   "cell_type": "code",
   "execution_count": 7,
   "metadata": {},
   "outputs": [
    {
     "data": {
      "text/plain": [
       "'0.000025'"
      ]
     },
     "execution_count": 7,
     "metadata": {},
     "output_type": "execute_result"
    }
   ],
   "source": [
    "def appropriate_me(pi, N):\n",
    "    return pi*N*0.05/N\n",
    "\n",
    "ME_adj = appropriate_me(bir,N)\n",
    "f\"{ME_adj:f}\""
   ]
  },
  {
   "cell_type": "markdown",
   "metadata": {},
   "source": [
    "If we substitute this into our equation for estimating the appropriate sample size, we get a very large sample"
   ]
  },
  {
   "cell_type": "code",
   "execution_count": 8,
   "metadata": {},
   "outputs": [
    {
     "data": {
      "text/plain": [
       "'638323'"
      ]
     },
     "execution_count": 8,
     "metadata": {},
     "output_type": "execute_result"
    }
   ],
   "source": [
    "f\"{sample_size(N, bir, z, ME_adj):n}\""
   ]
  },
  {
   "cell_type": "markdown",
   "metadata": {},
   "source": [
    "Which tells us that, when properly accounting for uncertainty, this isn't a method that promisises to save a lot of time. Further, if we overestimate by just one document, we won't save any time at all."
   ]
  },
  {
   "cell_type": "markdown",
   "metadata": {},
   "source": [
    "# Simulating a sample to estimate BIR\n",
    "Now we run a small experiment where we assume that the BIR found in the Shemilt study was the actual proportion of relevant studies in the database, and pick random samples"
   ]
  },
  {
   "cell_type": "code",
   "execution_count": 9,
   "metadata": {},
   "outputs": [],
   "source": [
    "population = round(N*bir)*[1] + round(N*(1-bir))*[0] # our population is made up of N*BIR ones and n*(1-BIR) zeros\n",
    "data = []\n",
    "iterations = 10000\n",
    "for i in range(10000):\n",
    "    sample = random.sample(population,math.ceil(n))\n",
    "    x = sum(sample)\n",
    "    pi_est = x/math.ceil(n) \n",
    "    ME_est = error_margin(z, pi_est, n, N)\n",
    "    data.append({\n",
    "        \"x\":x,\n",
    "        \"pi_est\": pi_est,\n",
    "        \"ME_est\": ME_est\n",
    "    })"
   ]
  },
  {
   "cell_type": "code",
   "execution_count": 10,
   "metadata": {},
   "outputs": [
    {
     "data": {
      "text/html": [
       "<div>\n",
       "<style scoped>\n",
       "    .dataframe tbody tr th:only-of-type {\n",
       "        vertical-align: middle;\n",
       "    }\n",
       "\n",
       "    .dataframe tbody tr th {\n",
       "        vertical-align: top;\n",
       "    }\n",
       "\n",
       "    .dataframe thead th {\n",
       "        text-align: right;\n",
       "    }\n",
       "</style>\n",
       "<table border=\"1\" class=\"dataframe\">\n",
       "  <thead>\n",
       "    <tr style=\"text-align: right;\">\n",
       "      <th></th>\n",
       "      <th>x</th>\n",
       "      <th>pi_est</th>\n",
       "      <th>ME_est</th>\n",
       "      <th>X</th>\n",
       "      <th>error</th>\n",
       "    </tr>\n",
       "  </thead>\n",
       "  <tbody>\n",
       "    <tr>\n",
       "      <td>0</td>\n",
       "      <td>8</td>\n",
       "      <td>0.001324</td>\n",
       "      <td>0.000914</td>\n",
       "      <td>1066.0</td>\n",
       "      <td>735.491081</td>\n",
       "    </tr>\n",
       "    <tr>\n",
       "      <td>1</td>\n",
       "      <td>3</td>\n",
       "      <td>0.000497</td>\n",
       "      <td>0.000560</td>\n",
       "      <td>400.0</td>\n",
       "      <td>450.581064</td>\n",
       "    </tr>\n",
       "    <tr>\n",
       "      <td>2</td>\n",
       "      <td>6</td>\n",
       "      <td>0.000993</td>\n",
       "      <td>0.000791</td>\n",
       "      <td>799.0</td>\n",
       "      <td>637.059530</td>\n",
       "    </tr>\n",
       "    <tr>\n",
       "      <td>3</td>\n",
       "      <td>0</td>\n",
       "      <td>0.000000</td>\n",
       "      <td>0.000000</td>\n",
       "      <td>0.0</td>\n",
       "      <td>0.000000</td>\n",
       "    </tr>\n",
       "    <tr>\n",
       "      <td>4</td>\n",
       "      <td>3</td>\n",
       "      <td>0.000497</td>\n",
       "      <td>0.000560</td>\n",
       "      <td>400.0</td>\n",
       "      <td>450.581064</td>\n",
       "    </tr>\n",
       "  </tbody>\n",
       "</table>\n",
       "</div>"
      ],
      "text/plain": [
       "   x    pi_est    ME_est       X       error\n",
       "0  8  0.001324  0.000914  1066.0  735.491081\n",
       "1  3  0.000497  0.000560   400.0  450.581064\n",
       "2  6  0.000993  0.000791   799.0  637.059530\n",
       "3  0  0.000000  0.000000     0.0    0.000000\n",
       "4  3  0.000497  0.000560   400.0  450.581064"
      ]
     },
     "execution_count": 10,
     "metadata": {},
     "output_type": "execute_result"
    }
   ],
   "source": [
    "df = pd.DataFrame.from_dict(data)\n",
    "df['X'] = round(df['pi_est']*N)\n",
    "df['error'] = df['ME_est']*N\n",
    "df.head()"
   ]
  },
  {
   "cell_type": "code",
   "execution_count": 17,
   "metadata": {},
   "outputs": [
    {
     "name": "stdout",
     "output_type": "stream",
     "text": [
      "0.2265\n",
      "0.35440000000000005\n"
     ]
    },
    {
     "data": {
      "image/png": "[encoded data removed]",
      "text/plain": [
       "<Figure size 1200x750 with 2 Axes>"
      ]
     },
     "metadata": {
      "needs_background": "light"
     },
     "output_type": "display_data"
    }
   ],
   "source": [
    "fig, axs = plt.subplots(1,2, figsize=(8,5),dpi=150)\n",
    "ax = axs[0]\n",
    "counts = df.groupby('X')['X'].count()\n",
    "ax.bar(counts.index,counts/iterations,width=20)\n",
    "ax.axvline(round(N*bir)*0.95, c=\"grey\")\n",
    "ax.axvline(round(N*bir)*1.05, c=\"grey\")\n",
    "ax.set_xlabel(\"Estimated relevant studies\")\n",
    "ax.set_ylabel(\"Distribution\")\n",
    "\n",
    "ax = axs[1]\n",
    "\n",
    "ax.set_xlabel(\"Relevant studies in sample\")\n",
    "ax.set_ylabel(\"Cumulative distribution\")\n",
    "b=0\n",
    "for i,x in df.groupby('x')['x']:\n",
    "    x = x.count()/iterations\n",
    "    ax.bar(i,x,bottom=b,color=\"steelblue\")\n",
    "    if i==round(n*bir):\n",
    "        ax.axhline(b, color=\"grey\",)\n",
    "        ax.axhline(b+x, color=\"grey\",)\n",
    "        ax.text(df['x'].max()*0.718,b*0.5,f\"{b:.2%}\",va=\"center\")\n",
    "        ax.text(df['x'].max()*0.718,b+x*0.5,f\"{x:.2%}\",va=\"center\")\n",
    "        ax.text(df['x'].max()*0.718,b+x+(1-(b+x))*0.5,f\"{1-(b+x):.2%}\",va=\"center\")\n",
    "        print(x)\n",
    "        print(1-(b+x))\n",
    "    b+=x\n",
    "ax.xaxis.set_major_locator(MaxNLocator(integer=True))\n",
    "    \n",
    "fig.tight_layout()"
   ]
  },
  {
   "cell_type": "markdown",
   "metadata": {},
   "source": [
    "This is not so useful as it implies that we only get the estimate right 22.5% of the time. 39.7% of the time we underestimate (meaning that our recall if we stopped screening when we reached our estimated number of relevant documents would be no greater than 66.6%, and as low as 0%). 37.8% of the time our estimate is above the true value, meaning that we wouldn't save any time, because we would never reach our target number.\n",
    "\n",
    "\n",
    "This follows the hypergeometric distribution, which tells us the probability of drawing $k$ successes (relevant documents) in a sample of $n$ drawn without replacement from a population of $N$ documents with $K$ successes. Incidentally this is a more suitable tool for understanding uncertainty with this class of problem, and it is what we use in the rest of this paper."
   ]
  },
  {
   "cell_type": "code",
   "execution_count": 12,
   "metadata": {},
   "outputs": [
    {
     "name": "stdout",
     "output_type": "stream",
     "text": [
      "3.0015442547635227\n",
      "0.42194385774178944\n"
     ]
    },
    {
     "data": {
      "image/png": "[encoded data removed]",
      "text/plain": [
       "<Figure size 432x288 with 1 Axes>"
      ]
     },
     "metadata": {
      "needs_background": "light"
     },
     "output_type": "display_data"
    }
   ],
   "source": [
    "# with numbers from Shemilt:\n",
    "# case 1: N = 804 919, n = 6040, estimated relevant 400\n",
    "rate = 400/804919\n",
    "mean_results =  6040 * rate\n",
    "print(mean_results) # -> found 3 relevant studies in sample\n",
    "print(hypergeom.cdf(2,  804919, 6040, 400))\n",
    "fig = plt.figure()\n",
    "x = np.arange(10)\n",
    "plt.bar(x, hypergeom.pmf(x, 804919, 6040, 400))\n",
    "plt.show()"
   ]
  },
  {
   "cell_type": "code",
   "execution_count": null,
   "metadata": {},
   "outputs": [],
   "source": []
  },
  {
   "cell_type": "code",
   "execution_count": null,
   "metadata": {},
   "outputs": [],
   "source": []
  },
  {
   "cell_type": "code",
   "execution_count": null,
   "metadata": {},
   "outputs": [],
   "source": []
  }
 ],
 "metadata": {
  "kernelspec": {
   "display_name": "Python 3",
   "language": "python",
   "name": "python3"
  },
  "language_info": {
   "codemirror_mode": {
    "name": "ipython",
    "version": 3
   },
   "file_extension": ".py",
   "mimetype": "text/x-python",
   "name": "python",
   "nbconvert_exporter": "python",
   "pygments_lexer": "ipython3",
   "version": "3.6.8"
  }
 },
 "nbformat": 4,
 "nbformat_minor": 2
}
